{
 "cells": [
  {
   "cell_type": "code",
   "execution_count": 5,
   "metadata": {},
   "outputs": [
    {
     "name": "stdout",
     "output_type": "stream",
     "text": [
      "Hello world\n",
      "Porchezhiyan\n",
      "Revert\n"
     ]
    }
   ],
   "source": [
    "print('Hello world')\n",
    "print(\"Porchezhiyan\")\n",
    "print('Revert')"
   ]
  }
 ],
 "metadata": {
  "interpreter": {
   "hash": "382a15904721096df57d851aeab28d486f4ae53cfd8ee1ca9653476f1ff63d34"
  },
  "kernelspec": {
   "display_name": "Python 3.9.7 ('base')",
   "language": "python",
   "name": "python3"
  },
  "language_info": {
   "codemirror_mode": {
    "name": "ipython",
    "version": 3
   },
   "file_extension": ".py",
   "mimetype": "text/x-python",
   "name": "python",
   "nbconvert_exporter": "python",
   "pygments_lexer": "ipython3",
   "version": "3.9.7"
  },
  "orig_nbformat": 4
 },
 "nbformat": 4,
 "nbformat_minor": 2
}
